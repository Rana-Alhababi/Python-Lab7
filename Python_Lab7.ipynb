{
  "nbformat": 4,
  "nbformat_minor": 0,
  "metadata": {
    "colab": {
      "provenance": []
    },
    "kernelspec": {
      "name": "python3",
      "display_name": "Python 3"
    },
    "language_info": {
      "name": "python"
    }
  },
  "cells": [
    {
      "cell_type": "code",
      "execution_count": 5,
      "metadata": {
        "colab": {
          "base_uri": "https://localhost:8080/"
        },
        "id": "uFjvrM7_k5HF",
        "outputId": "cf1d907e-ec3f-4546-fe45-2746983935be"
      },
      "outputs": [
        {
          "output_type": "stream",
          "name": "stdout",
          "text": [
            "Enter a phone number: 2222222222\n",
            "Mohammed\n"
          ]
        }
      ],
      "source": [
        "phone_book = {\n",
        "    \"1111111111\": \"Amal\",\n",
        "    \"2222222222\": \"Mohammed\",\n",
        "    \"3333333333\": \"Khadijah\",\n",
        "    \"4444444444\": \"Abdullah\",\n",
        "    \"5555555555\": \"Rawan\",\n",
        "    \"6666666666\": \"Faisal\",\n",
        "    \"7777777777\": \"Layla\"\n",
        "}\n",
        "\n",
        "def lookup_owner(phone_number):\n",
        "    if len(phone_number) != 10:\n",
        "        return \"This is an invalid number\"\n",
        "\n",
        "    if not phone_number.isdigit():\n",
        "        return \"This is an invalid number\"\n",
        "\n",
        "    if phone_number in phone_book:\n",
        "        return phone_book[phone_number]\n",
        "    else:\n",
        "        return \"Sorry, the number is not found\"\n",
        "\n",
        "\n",
        "number = input(\"Enter a phone number: \")\n",
        "owner = lookup_owner(number)\n",
        "print(owner)"
      ]
    }
  ]
}